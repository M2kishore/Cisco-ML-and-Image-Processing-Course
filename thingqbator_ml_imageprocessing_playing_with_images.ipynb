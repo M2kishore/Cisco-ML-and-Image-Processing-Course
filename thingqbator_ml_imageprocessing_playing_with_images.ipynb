{
  "nbformat": 4,
  "nbformat_minor": 2,
  "metadata": {
    "colab": {
      "name": "thingqbator_ml_imageprocessing_playing_with_images.ipynb",
      "provenance": [],
      "authorship_tag": "ABX9TyP6SSTrTnwQ5fX1DxPrcPeG",
      "include_colab_link": true
    },
    "kernelspec": {
      "name": "python3",
      "display_name": "Python 3.9.4 64-bit"
    },
    "language_info": {
      "name": "python",
      "version": "3.9.4",
      "mimetype": "text/x-python",
      "codemirror_mode": {
        "name": "ipython",
        "version": 3
      },
      "pygments_lexer": "ipython3",
      "nbconvert_exporter": "python",
      "file_extension": ".py"
    },
    "interpreter": {
      "hash": "63fd5069d213b44bf678585dea6b12cceca9941eaf7f819626cde1f2670de90d"
    }
  },
  "cells": [
    {
      "cell_type": "markdown",
      "source": [
        "<a href=\"https://colab.research.google.com/github/M2kishore/Cisco-ML-and-Image-Processing-Course/blob/main/thingqbator_ml_imageprocessing_playing_with_images.ipynb\" target=\"_parent\"><img src=\"https://colab.research.google.com/assets/colab-badge.svg\" alt=\"Open In Colab\"/></a>"
      ],
      "metadata": {
        "id": "view-in-github",
        "colab_type": "text"
      }
    },
    {
      "cell_type": "markdown",
      "source": [
        "Playing with images"
      ],
      "metadata": {
        "id": "d3jUngMxPYla"
      }
    },
    {
      "cell_type": "code",
      "execution_count": 1,
      "source": [
        "import numpy as np\r\n",
        "import cv2\r\n",
        "image = cv2.imread('cat.jpg',1)\r\n",
        "cv2.imshow(\"image\",image)\r\n",
        "cv2.waitKey(0)\r\n",
        "cv2.destroyAllWindows()\r\n"
      ],
      "outputs": [],
      "metadata": {
        "colab": {
          "base_uri": "https://localhost:8080/",
          "height": 431
        },
        "id": "Qi2VQYy6PWT1",
        "outputId": "50319843-f737-468c-a019-563933430242"
      }
    }
  ]
}