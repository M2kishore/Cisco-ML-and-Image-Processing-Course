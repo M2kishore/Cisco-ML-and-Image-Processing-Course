{
  "nbformat": 4,
  "nbformat_minor": 0,
  "metadata": {
    "colab": {
      "name": "thingqbator_ml_imageprocessing1.ipynb",
      "provenance": [],
      "authorship_tag": "ABX9TyPEsYHNkZ2nukb/pjou+Ht9",
      "include_colab_link": true
    },
    "kernelspec": {
      "name": "python3",
      "display_name": "Python 3"
    },
    "language_info": {
      "name": "python"
    }
  },
  "cells": [
    {
      "cell_type": "markdown",
      "metadata": {
        "id": "view-in-github",
        "colab_type": "text"
      },
      "source": [
        "<a href=\"https://colab.research.google.com/github/M2kishore/Cisco-ML-and-Image-Processing-Course/blob/main/thingqbator_ml_imageprocessing1.ipynb\" target=\"_parent\"><img src=\"https://colab.research.google.com/assets/colab-badge.svg\" alt=\"Open In Colab\"/></a>"
      ]
    },
    {
      "cell_type": "markdown",
      "metadata": {
        "id": "dfAYTBM8KPC0"
      },
      "source": [
        "A simple decision tree code to find the difference between apple and orange using color and texture."
      ]
    },
    {
      "cell_type": "code",
      "metadata": {
        "colab": {
          "base_uri": "https://localhost:8080/"
        },
        "id": "ea4Bs6HuH60F",
        "outputId": "24f6945b-7b06-4865-b8bf-084560cff1e3"
      },
      "source": [
        "# reference values\n",
        "redcolor = 0\n",
        "orangecolor = 1\n",
        "smooth = 0\n",
        "rough = 1\n",
        "apple = 0\n",
        "orange = 1\n",
        "# the features are the elements used to predict the label\n",
        "features = [[redcolor,smooth],[orangecolor,rough],[redcolor,smooth],[redcolor,smooth],[orangecolor,rough],[orangecolor,rough],[redcolor,smooth]]\n",
        "labels=[apple,orange,apple,apple,orange,orange,apple] # this is the element to be predicted using the features\n",
        "from sklearn import tree\n",
        "classifier = tree.DecisionTreeClassifier() # invoking a decision tree function\n",
        "classifier.fit(features,labels) # training the dataset\n",
        "print(classifier.predict([[1,0]]))# this gives the predicted lable for the given combinations of features and labels"
      ],
      "execution_count": 7,
      "outputs": [
        {
          "output_type": "stream",
          "name": "stdout",
          "text": [
            "[0]\n"
          ]
        }
      ]
    },
    {
      "cell_type": "markdown",
      "metadata": {
        "id": "0gfaDQ1sLlsa"
      },
      "source": [
        "Playing with images"
      ]
    }
  ]
}